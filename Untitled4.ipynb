{
  "nbformat": 4,
  "nbformat_minor": 0,
  "metadata": {
    "colab": {
      "provenance": []
    },
    "kernelspec": {
      "name": "python3",
      "display_name": "Python 3"
    },
    "language_info": {
      "name": "python"
    }
  },
  "cells": [
    {
      "cell_type": "markdown",
      "source": [
        "**Assignment_5**"
      ],
      "metadata": {
        "id": "12STlsc6tEd0"
      }
    },
    {
      "cell_type": "markdown",
      "source": [
        "Q1. What does an empty dictionary&#39;s code look like?"
      ],
      "metadata": {
        "id": "oDfQIdH5zwdE"
      }
    },
    {
      "cell_type": "markdown",
      "source": [
        "ANS1 An empty dictionary in Python looks like this:"
      ],
      "metadata": {
        "id": "-3yNvrXrz17g"
      }
    },
    {
      "cell_type": "code",
      "source": [
        "empty_dict = {}\n"
      ],
      "metadata": {
        "id": "913nrjYQtKW0"
      },
      "execution_count": 1,
      "outputs": []
    },
    {
      "cell_type": "markdown",
      "source": [
        "Q2. What is the value of a dictionary value with the key &#39;foo&#39; and the value 42?"
      ],
      "metadata": {
        "id": "WS0cebs8z_Pj"
      }
    },
    {
      "cell_type": "markdown",
      "source": [
        "ANS2 If a dictionary spam has the key 'foo' with the value 42, it would look like:"
      ],
      "metadata": {
        "id": "d2bNJUKf0AUL"
      }
    },
    {
      "cell_type": "code",
      "source": [
        "spam = {'foo': 42}\n"
      ],
      "metadata": {
        "id": "rwiuvCa30EuU"
      },
      "execution_count": 2,
      "outputs": []
    },
    {
      "cell_type": "markdown",
      "source": [
        "Q3. What is the most significant distinction between a dictionary and a list?"
      ],
      "metadata": {
        "id": "HZJn3f5e0JHw"
      }
    },
    {
      "cell_type": "markdown",
      "source": [
        "ANS3.  Significant distinction between a dictionary and a list\n",
        "\n",
        "* Dictionary: Stores data in key-value pairs and is accessed by keys.\n",
        "\n",
        "* List: Stores data in ordered sequences and is accessed by indices"
      ],
      "metadata": {
        "id": "LfIb6mIZ0KCu"
      }
    },
    {
      "cell_type": "markdown",
      "source": [
        "Q4. What happens if you try to access spam[&#39;foo&#39;] if spam is {&#39;bar&#39;: 100}?"
      ],
      "metadata": {
        "id": "_K0P8dQk0V_Q"
      }
    },
    {
      "cell_type": "markdown",
      "source": [
        "ANS4 If you try to access spam['foo'] when spam is {'bar': 100}, you'll get a KeyError because 'foo' is not a key in the dictionary spam."
      ],
      "metadata": {
        "id": "AFfhMmc90XVt"
      }
    },
    {
      "cell_type": "markdown",
      "source": [
        "Q5. If a dictionary is stored in spam, what is the difference between the expressions &#39;cat&#39; in spam and\n",
        "&#39;cat&#39; in spam.keys()?"
      ],
      "metadata": {
        "id": "uUJjgvmX0crJ"
      }
    },
    {
      "cell_type": "markdown",
      "source": [
        "ANS5. Difference between 'cat' in spam and 'cat' in spam.keys()\n",
        "\n",
        "* 'cat' in spam: Checks if the key 'cat' exists in the dictionary spam.\n",
        "\n",
        "* 'cat' in spam.keys(): Checks if the key 'cat' exists among the keys of the dictionary spam."
      ],
      "metadata": {
        "id": "aLrFA9_P0fnE"
      }
    },
    {
      "cell_type": "markdown",
      "source": [
        "Q6. If a dictionary is stored in spam, what is the difference between the expressions &#39;cat&#39; in spam and\n",
        "&#39;cat&#39; in spam.values()?"
      ],
      "metadata": {
        "id": "UH3uOviO0oSb"
      }
    },
    {
      "cell_type": "markdown",
      "source": [
        "ANS6. Difference between 'cat' in spam and 'cat' in spam.values()\n",
        "\n",
        "* 'cat' in spam: Checks if the key 'cat' exists in the dictionary spam.\n",
        "\n",
        "* 'cat' in spam.values(): Checks if the value 'cat' exists among the values of the dictionary spam."
      ],
      "metadata": {
        "id": "XloUJs0y0rfN"
      }
    },
    {
      "cell_type": "markdown",
      "source": [
        "Q7. What is a shortcut for the following code?\n",
        "if &#39;color&#39; not in spam:\n",
        "spam[&#39;color&#39;] = &#39;black&#39;"
      ],
      "metadata": {
        "id": "SJVD36P-01xR"
      }
    },
    {
      "cell_type": "code",
      "source": [
        "spam.setdefault('color', 'black')\n"
      ],
      "metadata": {
        "colab": {
          "base_uri": "https://localhost:8080/",
          "height": 35
        },
        "id": "wXI2pCKW1BzJ",
        "outputId": "aa0d5fd1-cd10-4ef5-d1dd-c74fa71c2903"
      },
      "execution_count": 3,
      "outputs": [
        {
          "output_type": "execute_result",
          "data": {
            "text/plain": [
              "'black'"
            ],
            "application/vnd.google.colaboratory.intrinsic+json": {
              "type": "string"
            }
          },
          "metadata": {},
          "execution_count": 3
        }
      ]
    },
    {
      "cell_type": "markdown",
      "source": [
        "Q8. How do you &quot;pretty print&quot; dictionary values using which module and function?"
      ],
      "metadata": {
        "id": "FpdzB7xk1AUS"
      }
    },
    {
      "cell_type": "markdown",
      "source": [
        "ANS8. Pretty printing dictionary values using a module and function\n",
        "To pretty print dictionary values in Python, you can use the pprint module (pprint stands for \"pretty print\")."
      ],
      "metadata": {
        "id": "ADnaEFWb06Xc"
      }
    },
    {
      "cell_type": "code",
      "source": [
        "import pprint\n",
        "\n",
        "my_dict = {'name': 'John', 'age': 30, 'city': 'New York'}\n",
        "\n",
        "# Pretty print the dictionary\n",
        "pprint.pprint(my_dict)\n"
      ],
      "metadata": {
        "colab": {
          "base_uri": "https://localhost:8080/"
        },
        "id": "HdV6amo41O4-",
        "outputId": "2daee272-0952-4aad-db00-3a45b4200e1b"
      },
      "execution_count": 4,
      "outputs": [
        {
          "output_type": "stream",
          "name": "stdout",
          "text": [
            "{'age': 30, 'city': 'New York', 'name': 'John'}\n"
          ]
        }
      ]
    },
    {
      "cell_type": "markdown",
      "source": [
        "This will output the dictionary my_dict in a nicely formatted way, which is easier to read, especially for dictionaries with nested structures or long entries"
      ],
      "metadata": {
        "id": "gbunGvaw1OGu"
      }
    }
  ]
}